{
 "cells": [
  {
   "cell_type": "code",
   "execution_count": 1,
   "id": "a7f35d8e",
   "metadata": {},
   "outputs": [],
   "source": [
    "import numpy as np # linear algebra\n",
    "import pandas as pd # data processing, CSV file I/O (e.g. pd.read_csv)\n",
    "import os\n",
    "import torch\n",
    "import torchvision\n",
    "from torchvision.datasets.utils import download_url\n",
    "from torch.utils.data import random_split\n",
    "from torchvision.datasets import ImageFolder\n",
    "from torchvision import transforms\n",
    "from torchvision.transforms import ToTensor\n",
    "from torch.utils.data.dataloader import DataLoader\n",
    "import torch.nn as nn\n",
    "import torch.nn.functional as F\n"
   ]
  },
  {
   "cell_type": "code",
   "execution_count": 2,
   "id": "361bc035",
   "metadata": {},
   "outputs": [
    {
     "name": "stdout",
     "output_type": "stream",
     "text": [
      "5\n"
     ]
    }
   ],
   "source": [
    "base_dir = \"./flowers\"\n",
    "classes=os.listdir(base_dir)\n",
    "num_class=len(classes)\n",
    "print(num_class)"
   ]
  },
  {
   "cell_type": "code",
   "execution_count": 3,
   "id": "75352532",
   "metadata": {},
   "outputs": [],
   "source": [
    "transformer = torchvision.transforms.Compose(\n",
    "    [  # Applying Augmentation\n",
    "        torchvision.transforms.Resize((32, 32)),\n",
    "        torchvision.transforms.RandomHorizontalFlip(p=0.5),\n",
    "        torchvision.transforms.RandomVerticalFlip(p=0.5),\n",
    "        torchvision.transforms.RandomRotation(30),\n",
    "        torchvision.transforms.ToTensor(),\n",
    "        torchvision.transforms.Normalize(\n",
    "            mean=[0.485, 0.456, 0.406], std=[0.229, 0.224, 0.225]\n",
    "        ),\n",
    "    ]\n",
    ")\n",
    "dataset = ImageFolder(base_dir, transform=transformer)"
   ]
  },
  {
   "cell_type": "code",
   "execution_count": 4,
   "id": "cdc9e440",
   "metadata": {},
   "outputs": [],
   "source": [
    "validation_size = 500\n",
    "training_size = len(dataset) - validation_size"
   ]
  },
  {
   "cell_type": "code",
   "execution_count": 5,
   "id": "dadbec70",
   "metadata": {},
   "outputs": [
    {
     "data": {
      "text/plain": [
       "(3817, 300)"
      ]
     },
     "execution_count": 5,
     "metadata": {},
     "output_type": "execute_result"
    }
   ],
   "source": [
    "train_ds, val_ds_main = random_split(dataset,[training_size, validation_size])\n",
    "val_ds, test_ds  = random_split(val_ds_main,[300, 200])\n",
    "len(train_ds), len(val_ds)"
   ]
  },
  {
   "cell_type": "code",
   "execution_count": 6,
   "id": "92ae451a",
   "metadata": {},
   "outputs": [],
   "source": [
    "import matplotlib.pyplot as plt\n",
    "\n",
    "def show_example(img, label):\n",
    "    print('Label: ', dataset.classes[label], \"(\"+str(label)+\")\")\n",
    "    plt.imshow(img.permute(1, 2, 0))\n"
   ]
  },
  {
   "cell_type": "code",
   "execution_count": 17,
   "id": "bae09f60",
   "metadata": {},
   "outputs": [
    {
     "name": "stderr",
     "output_type": "stream",
     "text": [
      "Clipping input data to the valid range for imshow with RGB data ([0..1] for floats or [0..255] for integers).\n"
     ]
    },
    {
     "name": "stdout",
     "output_type": "stream",
     "text": [
      "Label:  rose (2)\n"
     ]
    },
    {
     "data": {
      "image/png": "[encoded data removed]",
      "text/plain": [
       "<Figure size 432x288 with 1 Axes>"
      ]
     },
     "metadata": {
      "needs_background": "light"
     },
     "output_type": "display_data"
    }
   ],
   "source": [
    "show_example(*dataset[2000])"
   ]
  },
  {
   "cell_type": "code",
   "execution_count": 8,
   "id": "b2e6813a",
   "metadata": {},
   "outputs": [],
   "source": [
    "class SimpleNet(nn.Module):\n",
    "    def __init__(self, num_classes=10):\n",
    "        super(SimpleNet, self).__init__()\n",
    "        self.conv1 = nn.Conv2d(in_channels=3, out_channels=32, kernel_size=3, padding=0)\n",
    "        self.pool = nn.AvgPool2d(kernel_size=30, stride=1)\n",
    "        self.linear = nn.Linear(32, num_classes)\n",
    "        \n",
    "\n",
    "    def forward(self, x):\n",
    "        out = self.conv1(x)\n",
    "        out = F.relu(out)\n",
    "        out = self.pool(out)\n",
    "        out = out.view(out.size(0), -1)\n",
    "        out = self.linear(out)\n",
    "        out = F.softmax(out, dim=1)\n",
    "\n",
    "        return out\n",
    "net = SimpleNet(num_classes=num_class)\n"
   ]
  },
  {
   "cell_type": "code",
   "execution_count": 9,
   "id": "ddd14211",
   "metadata": {},
   "outputs": [],
   "source": [
    "def train(net, trainloader, epochs):\n",
    "    \"\"\"\n",
    "    Train the network on the training set.\n",
    "    \"\"\"\n",
    "    criterion = torch.nn.CrossEntropyLoss()\n",
    "    optimizer = torch.optim.SGD(net.parameters(), lr=0.001, momentum=0.9)\n",
    "    for epoch in range(epochs):\n",
    "        running_loss =0.0\n",
    "        for i, (images, labels) in enumerate(trainloader):\n",
    "            optimizer.zero_grad()\n",
    "            outputs = net(images.unsqueeze(0))\n",
    "            loss = criterion(outputs, torch.tensor([labels]))\n",
    "            loss.backward()\n",
    "            optimizer.step()\n",
    "                    # print statistics\n",
    "            running_loss += loss.item()\n",
    "            if i % 200 == 199:    # print every 200 mini-batches\n",
    "                print(f'[{epoch + 1}, {i + 1:5d}] loss: {running_loss / 2000:.3f}')\n",
    "                running_loss = 0.0\n",
    "    print('Finished Training')"
   ]
  },
  {
   "cell_type": "code",
   "execution_count": null,
   "id": "26b6ccd3",
   "metadata": {},
   "outputs": [],
   "source": [
    "#### training wihth 10 epochs"
   ]
  },
  {
   "cell_type": "code",
   "execution_count": null,
   "id": "f4840f23",
   "metadata": {},
   "outputs": [],
   "source": [
    "train(net, train_ds, 10)\n"
   ]
  },
  {
   "cell_type": "code",
   "execution_count": 20,
   "id": "985af514",
   "metadata": {},
   "outputs": [],
   "source": [
    "torch.save(net.state_dict(), 'flower.pth')"
   ]
  },
  {
   "cell_type": "markdown",
   "id": "42f00952",
   "metadata": {},
   "source": [
    "### Here is the code to recognize the flower\n"
   ]
  },
  {
   "cell_type": "code",
   "execution_count": 27,
   "id": "17c32788",
   "metadata": {},
   "outputs": [],
   "source": [
    "##### load model"
   ]
  },
  {
   "cell_type": "code",
   "execution_count": 28,
   "id": "80fcd934",
   "metadata": {},
   "outputs": [
    {
     "data": {
      "text/plain": [
       "<All keys matched successfully>"
      ]
     },
     "execution_count": 28,
     "metadata": {},
     "output_type": "execute_result"
    }
   ],
   "source": [
    "save_path = './flower.pth'\n",
    "net = SimpleNet(num_classes=num_class)\n",
    "net.load_state_dict(torch.load(save_path))"
   ]
  },
  {
   "cell_type": "code",
   "execution_count": 29,
   "id": "b5f39eea",
   "metadata": {},
   "outputs": [],
   "source": [
    "from PIL import Image\n",
    "img_cat = Image.open(\"p1.jpeg\").convert('RGB')\n",
    "img_cat_preprocessed = transformer(img_cat)\n",
    "batch_img_cat_tensor = torch.unsqueeze(img_cat_preprocessed, 0)\n",
    "net.eval()\n",
    "out = net(batch_img_cat_tensor)"
   ]
  },
  {
   "cell_type": "code",
   "execution_count": 30,
   "id": "f5a85e20",
   "metadata": {},
   "outputs": [
    {
     "name": "stdout",
     "output_type": "stream",
     "text": [
      "tulip 37.8961181640625\n"
     ]
    }
   ],
   "source": [
    "_, index = torch.max(out, 1)\n",
    "percentage = torch.nn.functional.softmax(out, dim=1)[0] * 100\n",
    "print(classes[index[0]], percentage[index[0]].item())"
   ]
  },
  {
   "cell_type": "code",
   "execution_count": null,
   "id": "9e719356",
   "metadata": {},
   "outputs": [],
   "source": []
  }
 ],
 "metadata": {
  "kernelspec": {
   "display_name": "conda_pytorch_p36",
   "language": "python",
   "name": "conda_pytorch_p36"
  },
  "language_info": {
   "codemirror_mode": {
    "name": "ipython",
    "version": 3
   },
   "file_extension": ".py",
   "mimetype": "text/x-python",
   "name": "python",
   "nbconvert_exporter": "python",
   "pygments_lexer": "ipython3",
   "version": "3.6.13"
  }
 },
 "nbformat": 4,
 "nbformat_minor": 5
}
