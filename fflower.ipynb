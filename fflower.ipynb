{
 "cells": [
  {
   "cell_type": "code",
   "execution_count": 1,
   "id": "586d196f",
   "metadata": {},
   "outputs": [],
   "source": [
    "import numpy as np # linear algebra\n",
    "import pandas as pd # data processing, CSV file I/O (e.g. pd.read_csv)\n",
    "import os\n",
    "import torch\n",
    "import torchvision\n",
    "from torchvision.datasets.utils import download_url\n",
    "from torch.utils.data import random_split\n",
    "from torchvision.datasets import ImageFolder\n",
    "from torchvision import transforms\n",
    "from torchvision.transforms import ToTensor\n",
    "from torch.utils.data.dataloader import DataLoader\n",
    "import torch.nn as nn\n",
    "import torch.nn.functional as F\n"
   ]
  },
  {
   "cell_type": "code",
   "execution_count": 2,
   "id": "5a6e33ba",
   "metadata": {},
   "outputs": [
    {
     "name": "stdout",
     "output_type": "stream",
     "text": [
      "5\n"
     ]
    }
   ],
   "source": [
    "base_dir = \"./flowers\"\n",
    "classes=os.listdir(base_dir)\n",
    "num_class=len(classes)\n",
    "print(num_class)"
   ]
  },
  {
   "cell_type": "code",
   "execution_count": 3,
   "id": "58045949",
   "metadata": {},
   "outputs": [],
   "source": [
    "transformer = torchvision.transforms.Compose(\n",
    "    [  # Applying Augmentation\n",
    "        torchvision.transforms.Resize((32, 32)),\n",
    "        torchvision.transforms.RandomHorizontalFlip(p=0.5),\n",
    "        torchvision.transforms.RandomVerticalFlip(p=0.5),\n",
    "        torchvision.transforms.RandomRotation(30),\n",
    "        torchvision.transforms.ToTensor(),\n",
    "        torchvision.transforms.Normalize(\n",
    "            mean=[0.485, 0.456, 0.406], std=[0.229, 0.224, 0.225]\n",
    "        ),\n",
    "    ]\n",
    ")\n",
    "dataset = ImageFolder(base_dir, transform=transformer)"
   ]
  },
  {
   "cell_type": "code",
   "execution_count": 4,
   "id": "c774a07d",
   "metadata": {},
   "outputs": [],
   "source": [
    "validation_size = 500\n",
    "training_size = len(dataset) - validation_size"
   ]
  },
  {
   "cell_type": "code",
   "execution_count": 5,
   "id": "ed0ef252",
   "metadata": {},
   "outputs": [
    {
     "data": {
      "text/plain": [
       "(3817, 300)"
      ]
     },
     "execution_count": 5,
     "metadata": {},
     "output_type": "execute_result"
    }
   ],
   "source": [
    "train_ds, val_ds_main = random_split(dataset,[training_size, validation_size])\n",
    "val_ds, test_ds  = random_split(val_ds_main,[300, 200])\n",
    "len(train_ds), len(val_ds)"
   ]
  },
  {
   "cell_type": "code",
   "execution_count": 6,
   "id": "88aaf84a",
   "metadata": {},
   "outputs": [],
   "source": [
    "import matplotlib.pyplot as plt\n",
    "\n",
    "def show_example(img, label):\n",
    "    print('Label: ', dataset.classes[label], \"(\"+str(label)+\")\")\n",
    "    plt.imshow(img.permute(1, 2, 0))\n"
   ]
  },
  {
   "cell_type": "code",
   "execution_count": 7,
   "id": "2dc1445b",
   "metadata": {},
   "outputs": [
    {
     "name": "stderr",
     "output_type": "stream",
     "text": [
      "Clipping input data to the valid range for imshow with RGB data ([0..1] for floats or [0..255] for integers).\n"
     ]
    },
    {
     "name": "stdout",
     "output_type": "stream",
     "text": [
      "Label:  daisy (0)\n"
     ]
    },
    {
     "data": {
      "image/png": "[encoded data removed]",
      "text/plain": [
       "<Figure size 432x288 with 1 Axes>"
      ]
     },
     "metadata": {
      "needs_background": "light"
     },
     "output_type": "display_data"
    }
   ],
   "source": [
    "show_example(*dataset[1])"
   ]
  },
  {
   "cell_type": "code",
   "execution_count": 8,
   "id": "1cde5d4a",
   "metadata": {},
   "outputs": [],
   "source": [
    "class SimpleNet(nn.Module):\n",
    "    def __init__(self, num_classes=10):\n",
    "        super(SimpleNet, self).__init__()\n",
    "        self.conv1 = nn.Conv2d(in_channels=3, out_channels=32, kernel_size=3, padding=0)\n",
    "        self.pool = nn.AvgPool2d(kernel_size=30, stride=1)\n",
    "        self.linear = nn.Linear(32, num_classes)\n",
    "        \n",
    "\n",
    "    def forward(self, x):\n",
    "        out = self.conv1(x)\n",
    "        out = F.relu(out)\n",
    "        out = self.pool(out)\n",
    "        out = out.view(out.size(0), -1)\n",
    "        out = self.linear(out)\n",
    "        out = F.softmax(out, dim=1)\n",
    "\n",
    "        return out\n",
    "net = SimpleNet(num_classes=num_class)\n"
   ]
  },
  {
   "cell_type": "code",
   "execution_count": 9,
   "id": "29d65c4b",
   "metadata": {},
   "outputs": [],
   "source": [
    "def train(net, trainloader, epochs):\n",
    "    \"\"\"\n",
    "    Train the network on the training set.\n",
    "    \"\"\"\n",
    "    criterion = torch.nn.CrossEntropyLoss()\n",
    "    optimizer = torch.optim.SGD(net.parameters(), lr=0.001, momentum=0.9)\n",
    "    for epoch in range(epochs):\n",
    "        running_loss =0.0\n",
    "        for i, (images, labels) in enumerate(trainloader):\n",
    "            optimizer.zero_grad()\n",
    "            outputs = net(images.unsqueeze(0))\n",
    "            loss = criterion(outputs, torch.tensor([labels]))\n",
    "            loss.backward()\n",
    "            optimizer.step()\n",
    "                    # print statistics\n",
    "            running_loss += loss.item()\n",
    "            if i % 200 == 199:    # print every 200 mini-batches\n",
    "                print(f'[{epoch + 1}, {i + 1:5d}] loss: {running_loss / 2000:.3f}')\n",
    "                running_loss = 0.0\n",
    "    print('Finished Training')"
   ]
  },
  {
   "cell_type": "code",
   "execution_count": 10,
   "id": "a4f979ea",
   "metadata": {},
   "outputs": [
    {
     "name": "stdout",
     "output_type": "stream",
     "text": [
      "[1,   200] loss: 0.160\n",
      "[1,   400] loss: 0.161\n",
      "[1,   600] loss: 0.161\n",
      "[1,   800] loss: 0.160\n",
      "[1,  1000] loss: 0.160\n",
      "[1,  1200] loss: 0.158\n",
      "[1,  1400] loss: 0.159\n",
      "[1,  1600] loss: 0.159\n",
      "[1,  1800] loss: 0.158\n",
      "[1,  2000] loss: 0.158\n",
      "[1,  2200] loss: 0.158\n",
      "[1,  2400] loss: 0.158\n",
      "[1,  2600] loss: 0.154\n",
      "[1,  2800] loss: 0.155\n",
      "[1,  3000] loss: 0.157\n",
      "[1,  3200] loss: 0.156\n",
      "[1,  3400] loss: 0.155\n",
      "[1,  3600] loss: 0.156\n",
      "[1,  3800] loss: 0.156\n",
      "Finished Training\n"
     ]
    }
   ],
   "source": [
    "train(net, train_ds, 1)\n"
   ]
  },
  {
   "cell_type": "code",
   "execution_count": 11,
   "id": "75d0dca2",
   "metadata": {},
   "outputs": [],
   "source": [
    "torch.save(net.state_dict(), 'flower.pth')"
   ]
  },
  {
   "cell_type": "code",
   "execution_count": null,
   "id": "c7b44fc1",
   "metadata": {},
   "outputs": [],
   "source": []
  }
 ],
 "metadata": {
  "kernelspec": {
   "display_name": "conda_pytorch_p36",
   "language": "python",
   "name": "conda_pytorch_p36"
  },
  "language_info": {
   "codemirror_mode": {
    "name": "ipython",
    "version": 3
   },
   "file_extension": ".py",
   "mimetype": "text/x-python",
   "name": "python",
   "nbconvert_exporter": "python",
   "pygments_lexer": "ipython3",
   "version": "3.6.13"
  }
 },
 "nbformat": 4,
 "nbformat_minor": 5
}
